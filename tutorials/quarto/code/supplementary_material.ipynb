{
 "cells": [
  {
   "cell_type": "markdown",
   "metadata": {},
   "source": [
    "# Supplementary material"
   ]
  },
  {
   "cell_type": "markdown",
   "metadata": {},
   "source": [
    "## Supplementary methods"
   ]
  },
  {
   "cell_type": "markdown",
   "metadata": {},
   "source": [
    "Here you might include a description of the methods used in obtaining and analysing the data before getting into this document, e.g. how sequencing data was aligned and counted."
   ]
  },
  {
   "cell_type": "markdown",
   "metadata": {},
   "source": [
    "## Supplementary tables and figures"
   ]
  },
  {
   "cell_type": "code",
   "execution_count": null,
   "metadata": {},
   "outputs": [],
   "source": [
    "def get_geodata(GEO_ID):\n",
    "    from urllib import request\n",
    "    from Bio import Geo\n",
    "    import gzip as gz\n",
    "    ftp_url = f\"https://ftp.ncbi.nlm.nih.gov/geo/series/{GEO_ID[0:5]}nnn/{GEO_ID}/soft/{GEO_ID}_family.soft.gz\"\n",
    "    request.urlretrieve(ftp_url, f\"{GEO_ID}.gz\")\n",
    "    fh = gz.open(f\"{GEO_ID}.gz\", 'rt')\n",
    "    records = Geo.parse(fh)\n",
    "    geo_id_dict = {}\n",
    "    for r in records:\n",
    "        if r.entity_type == \"SAMPLE\":\n",
    "            ID = r.entity_id\n",
    "            name = r.entity_attributes['Sample_source_name_ch1']\n",
    "            title = r.entity_attributes['Sample_title']\n",
    "            geo_id_dict[ID] = {\"name\": name, \"title\": title}\n",
    "    df = pd.DataFrame(geo_id_dict).T\n",
    "    return df"
   ]
  },
  {
   "cell_type": "markdown",
   "metadata": {},
   "source": [
    "## Reproducibility\n",
    "\n",
    "The code for reproducing this analysis is available in this [GitHub repo](https://github.com/NBISweden/workshop-reproducible-research/tree/main/jupyter).\n",
    "The repo contains:\n",
    "\n",
    "* A Snakemake workflow for running all analysis steps\n",
    "* A Conda environment file for installing all needed dependenciesx\n",
    "* A Docker file for running the analysis in a well-defined and isolated system"
   ]
  }
 ],
 "metadata": {
  "hide_input": false,
  "kernelspec": {
   "display_name": "Python 3",
   "language": "python",
   "name": "python3"
  },
  "language_info": {
   "codemirror_mode": {
    "name": "ipython",
    "version": 3
   },
   "file_extension": ".py",
   "mimetype": "text/x-python",
   "name": "python",
   "nbconvert_exporter": "python",
   "pygments_lexer": "ipython3",
   "version": "3.9.2"
  },
  "toc": {
   "base_numbering": 1,
   "nav_menu": {},
   "number_sections": true,
   "sideBar": true,
   "skip_h1_title": false,
   "title_cell": "Table of Contents",
   "title_sidebar": "Contents",
   "toc_cell": false,
   "toc_position": {},
   "toc_section_display": true,
   "toc_window_display": false
  }
 },
 "nbformat": 4,
 "nbformat_minor": 2
}
